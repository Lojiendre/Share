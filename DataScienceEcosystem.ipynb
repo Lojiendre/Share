{
 "cells": [
  {
   "cell_type": "markdown",
   "id": "974c77d3-8df9-49b5-b3c4-792e29b00654",
   "metadata": {},
   "source": [
    "#Data Science Tools and Ecosystem"
   ]
  },
  {
   "cell_type": "markdown",
   "id": "9655fb39-1ad6-47dc-b40c-7e649917c30e",
   "metadata": {},
   "source": [
    "#In this notebook, Data Science Tools and Ecosystem are summarized."
   ]
  },
  {
   "cell_type": "markdown",
   "id": "8207c271-fa9a-49c8-b485-312737931145",
   "metadata": {},
   "source": [
    "#Objectives:\n",
    "- List of popular languages\n",
    "- List of common used libs\n",
    "- Create single table in Jupyter\n",
    "- List arithmetic expressions\n",
    "- Use markdown and code cell expressions"
   ]
  },
  {
   "cell_type": "markdown",
   "id": "9ef520f9-abde-45d9-81ff-475c1bd04c16",
   "metadata": {},
   "source": [
    "#Some of the popular languages that Data Scientists use are:\n",
    "### 1 Python\n",
    "### 2 R\n",
    "### 3 Julia"
   ]
  },
  {
   "cell_type": "markdown",
   "id": "b41f2308-a6d6-40bb-a9d6-2bcfc48b5203",
   "metadata": {},
   "source": [
    "#Some of the commonly used libraries used by Data Scientists include:\n",
    "### 1 Numpy\n",
    "### 2 Pandas\n",
    "### 3 Matplotlib"
   ]
  },
  {
   "cell_type": "markdown",
   "id": "75ab2456-6076-4634-8a45-fe2829aba815",
   "metadata": {},
   "source": [
    "#Data Science Tools\n",
    "| Data Science Tools| \n",
    "| -|\n",
    "| TensorFlow |\n",
    "| NLTK | \n",
    "| Apache Spark |"
   ]
  },
  {
   "cell_type": "markdown",
   "id": "5744f95d-5193-440e-aa60-8b4e7ee0d461",
   "metadata": {},
   "source": [
    "###Below are a few examples of evaluating arithmetic expressions in Python\n",
    "|arithmic expressions|\n",
    "|-|\n",
    "| ** |exponentiations|\n",
    "| // |integer division|\n",
    "| % |modulus|"
   ]
  },
  {
   "cell_type": "code",
   "execution_count": 1,
   "id": "79d4b984-f6af-4f4d-973d-067feef64439",
   "metadata": {
    "tags": []
   },
   "outputs": [
    {
     "data": {
      "text/plain": [
       "17"
      ]
     },
     "execution_count": 1,
     "metadata": {},
     "output_type": "execute_result"
    }
   ],
   "source": [
    "#This a simple arithmetic expression to mutiply then add integers\n",
    "(3*4)+5"
   ]
  },
  {
   "cell_type": "code",
   "execution_count": 4,
   "id": "e8f0c5a1-4397-4d59-a5de-a44128cda192",
   "metadata": {
    "tags": []
   },
   "outputs": [
    {
     "name": "stdin",
     "output_type": "stream",
     "text": [
      "Enter time in minutes 200\n"
     ]
    },
    {
     "name": "stdout",
     "output_type": "stream",
     "text": [
      "Hours= 3\n",
      "Minutes= 20\n"
     ]
    }
   ],
   "source": [
    "#This will convert 200 minutes to hours by diving by 60#\n",
    "min=int(input(\"Enter time in minutes\"))\n",
    "h=min//60\n",
    "m=min%60\n",
    "print(\"Hours=\",h)\n",
    "print(\"Minutes=\",m)"
   ]
  },
  {
   "cell_type": "markdown",
   "id": "906f5254-9921-4e2e-aa24-25038725a10a",
   "metadata": {},
   "source": [
    "|##Author|\n",
    "|-|\n",
    "|Rawin|\n"
   ]
  }
 ],
 "metadata": {
  "kernelspec": {
   "display_name": "Python",
   "language": "python",
   "name": "conda-env-python-py"
  },
  "language_info": {
   "codemirror_mode": {
    "name": "ipython",
    "version": 3
   },
   "file_extension": ".py",
   "mimetype": "text/x-python",
   "name": "python",
   "nbconvert_exporter": "python",
   "pygments_lexer": "ipython3",
   "version": "3.7.12"
  }
 },
 "nbformat": 4,
 "nbformat_minor": 5
}
